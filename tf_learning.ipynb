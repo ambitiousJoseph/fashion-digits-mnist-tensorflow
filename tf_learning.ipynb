{
 "cells": [
  {
   "cell_type": "markdown",
   "id": "stock-moscow",
   "metadata": {},
   "source": [
    "# Fashion MNIST"
   ]
  },
  {
   "cell_type": "code",
   "execution_count": 52,
   "id": "suited-armenia",
   "metadata": {},
   "outputs": [],
   "source": [
    "import tensorflow as tf\n",
    "import matplotlib.pyplot as plt\n",
    "import warnings\n",
    "from tensorflow import keras\n",
    "import numpy as np"
   ]
  },
  {
   "cell_type": "code",
   "execution_count": 21,
   "id": "smart-election",
   "metadata": {},
   "outputs": [],
   "source": [
    "data = keras.datasets.fashion_mnist"
   ]
  },
  {
   "cell_type": "code",
   "execution_count": null,
   "id": "concrete-dealing",
   "metadata": {},
   "outputs": [],
   "source": [
    "(train_images, train_labels), (test_images, test_labels) = data.load_data()"
   ]
  },
  {
   "cell_type": "code",
   "execution_count": null,
   "id": "severe-weapon",
   "metadata": {},
   "outputs": [],
   "source": [
    "plt.imshow(train_images[10], cmap=plt.cm.binary)\n",
    "plt.show()"
   ]
  },
  {
   "cell_type": "code",
   "execution_count": 29,
   "id": "reflected-juvenile",
   "metadata": {},
   "outputs": [],
   "source": [
    "class_labels = ['T-shirt', 'Trouser', 'Pullover', 'Dress', 'Coat', 'Sandal', 'Shirt', 'Sneaker', 'Bag', 'Ankle boot']"
   ]
  },
  {
   "cell_type": "code",
   "execution_count": 35,
   "id": "frequent-school",
   "metadata": {},
   "outputs": [],
   "source": [
    "train_images = train_images / 255\n",
    "test_images = test_images / 255"
   ]
  },
  {
   "cell_type": "code",
   "execution_count": 42,
   "id": "clean-pantyhose",
   "metadata": {},
   "outputs": [],
   "source": [
    "model = keras.Sequential([\n",
    "    keras.layers.Flatten(input_shape=(28, 28)),\n",
    "    keras.layers.Dense(128, activation=\"relu\"),\n",
    "    keras.layers.Dense(10, activation='softmax')\n",
    "])\n",
    "\n",
    "model.compile(optimizer=\"adam\", loss=\"sparse_categorical_crossentropy\", metrics=[\"accuracy\"])"
   ]
  },
  {
   "cell_type": "code",
   "execution_count": null,
   "id": "motivated-species",
   "metadata": {},
   "outputs": [],
   "source": [
    "# Training the model\n",
    "\n",
    "model.fit(train_images, train_labels, epochs=5)\n"
   ]
  },
  {
   "cell_type": "code",
   "execution_count": 93,
   "id": "senior-science",
   "metadata": {},
   "outputs": [
    {
     "name": "stdout",
     "output_type": "stream",
     "text": [
      "10000/10000 [==============================] - 0s 49us/sample - loss: 0.4043 - accuracy: 0.8883\n"
     ]
    }
   ],
   "source": [
    "test_loss, test_acc = model.evaluate(test_images, test_labels)"
   ]
  },
  {
   "cell_type": "code",
   "execution_count": 95,
   "id": "herbal-gibraltar",
   "metadata": {},
   "outputs": [
    {
     "name": "stdout",
     "output_type": "stream",
     "text": [
      "The model is 88.8% Accurate\n"
     ]
    }
   ],
   "source": [
    "print(f\"The model is {round(test_acc * 100, 1)}% Accurate\")"
   ]
  },
  {
   "cell_type": "code",
   "execution_count": 97,
   "id": "eastern-israel",
   "metadata": {},
   "outputs": [],
   "source": [
    "# Making predictions\n",
    "\n",
    "predictions = model.predict(test_images)"
   ]
  },
  {
   "cell_type": "code",
   "execution_count": null,
   "id": "proud-pearl",
   "metadata": {},
   "outputs": [],
   "source": [
    "# Comparing failed predictions\n",
    "\n",
    "print (\"Label \\t prediction\\n\")\n",
    "fails = []\n",
    "for i in range(len(test_images)):\n",
    "    index = np.argmax(predictions[i])\n",
    "    if class_labels[test_labels[i]] != class_labels[index]:\n",
    "        fails.append(i)\n",
    "    "
   ]
  },
  {
   "cell_type": "code",
   "execution_count": 99,
   "id": "armed-functionality",
   "metadata": {},
   "outputs": [
    {
     "name": "stdout",
     "output_type": "stream",
     "text": [
      "The model made 1167 wrong prediction out of 10000 predictions\n"
     ]
    }
   ],
   "source": [
    "print(f\"The model made {len(fails)} wrong prediction out of {len(test_images)} predictions\")"
   ]
  },
  {
   "cell_type": "markdown",
   "id": "knowing-mailing",
   "metadata": {},
   "source": []
  },
  {
   "cell_type": "markdown",
   "id": "linear-spirit",
   "metadata": {},
   "source": [
    "# digit Mnist\n"
   ]
  },
  {
   "cell_type": "code",
   "execution_count": null,
   "id": "restricted-stopping",
   "metadata": {},
   "outputs": [],
   "source": [
    "data = keras.datasets.mnist"
   ]
  },
  {
   "cell_type": "code",
   "execution_count": null,
   "id": "different-russia",
   "metadata": {},
   "outputs": [],
   "source": [
    "(train, t_labels), (test, test_labels) = data.load_data()"
   ]
  },
  {
   "cell_type": "code",
   "execution_count": null,
   "id": "romantic-comparative",
   "metadata": {},
   "outputs": [],
   "source": [
    "plt.imshow(train[0], cmap=plt.cm.binary)\n",
    "plt.show()"
   ]
  },
  {
   "cell_type": "code",
   "execution_count": null,
   "id": "manufactured-butler",
   "metadata": {},
   "outputs": [],
   "source": [
    "# making data smaller\n",
    "\n",
    "train = train/255\n",
    "test = test/255"
   ]
  },
  {
   "cell_type": "code",
   "execution_count": null,
   "id": "charged-isolation",
   "metadata": {},
   "outputs": [],
   "source": [
    "model = keras.Sequential([\n",
    "    keras.layers.Flatten(input_shape=(28, 28)),\n",
    "    keras.layers.Dense(128, activation='relu'),\n",
    "    keras.layers.Dense(10, activation='softmax')\n",
    "])"
   ]
  },
  {
   "cell_type": "code",
   "execution_count": null,
   "id": "third-letter",
   "metadata": {},
   "outputs": [],
   "source": [
    "model.compile(optimizer='adam', loss='sparse_categorical_crossentropy', metrics=['accuracy'])"
   ]
  },
  {
   "cell_type": "code",
   "execution_count": null,
   "id": "racial-consolidation",
   "metadata": {},
   "outputs": [],
   "source": [
    "# Training the model\n",
    "model.fit(train, t_labels, epochs=3)"
   ]
  },
  {
   "cell_type": "code",
   "execution_count": null,
   "id": "passive-disposition",
   "metadata": {},
   "outputs": [],
   "source": [
    "# evaluating the model accuracy\n",
    "\n",
    "loss, acc = model.evaluate(test, test_labels)\n",
    "print(f\"Accuracy: {round(acc * 100, 2) }%\")"
   ]
  },
  {
   "cell_type": "code",
   "execution_count": null,
   "id": "noted-stadium",
   "metadata": {},
   "outputs": [],
   "source": [
    "# Making predictions\n",
    "\n",
    "predictions = model.predict(test)\n",
    "\n",
    "\n",
    "# Making single prediction\n",
    "\n",
    "print(f\"Prediction: {np.argmax(predictions[2])} | Actual Value: {test_labels[2]}\")"
   ]
  },
  {
   "cell_type": "code",
   "execution_count": null,
   "id": "specialized-ownership",
   "metadata": {},
   "outputs": [],
   "source": []
  },
  {
   "cell_type": "code",
   "execution_count": null,
   "id": "declared-argentina",
   "metadata": {},
   "outputs": [],
   "source": []
  }
 ],
 "metadata": {
  "kernelspec": {
   "display_name": "Python 3",
   "language": "python",
   "name": "python3"
  },
  "language_info": {
   "codemirror_mode": {
    "name": "ipython",
    "version": 3
   },
   "file_extension": ".py",
   "mimetype": "text/x-python",
   "name": "python",
   "nbconvert_exporter": "python",
   "pygments_lexer": "ipython3",
   "version": "3.7.9"
  }
 },
 "nbformat": 4,
 "nbformat_minor": 5
}
